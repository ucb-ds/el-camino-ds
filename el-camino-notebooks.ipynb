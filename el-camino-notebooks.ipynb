{
 "cells": [
  {
   "cell_type": "markdown",
   "metadata": {},
   "source": [
    "# El Camino Data Science Workshop "
   ]
  },
  {
   "cell_type": "markdown",
   "metadata": {},
   "source": [
    "![campus.png](./campus.png)"
   ]
  },
  {
   "cell_type": "markdown",
   "metadata": {},
   "source": [
    "## The Next Hour\n",
    "- What is Jupyter?\n",
    "- Play with some Python in a Notebook\n",
    "- Edit the Notebook itself"
   ]
  },
  {
   "cell_type": "markdown",
   "metadata": {},
   "source": [
    "------------------------------"
   ]
  },
  {
   "cell_type": "markdown",
   "metadata": {},
   "source": [
    "<div style=\"background-color: #F4A300; padding: 15px;\">\n",
    "\n",
    "## Jupyter Notebook(and other tools ... Jupyter Hub, Jupyter Lab)\n",
    "\n",
    "- **Jupyter Notebook:** Open-Source Document Type(like Google Doc or Microsoft Word) that allows narrative text \n",
    "and executeable code in same document\n",
    "- **Jupyter Hub:** (You are using one!) A pre-configured \"computing environment\" rendering Jupyter Notebooks in the browser; handles authentication, storage, and any files or packages you might need\n",
    "\n",
    "</div>"
   ]
  },
  {
   "cell_type": "markdown",
   "metadata": {},
   "source": [
    "------------------------------"
   ]
  },
  {
   "cell_type": "markdown",
   "metadata": {},
   "source": [
    "<div style=\"background-color: #FFA07A; padding: 15px;\">\n",
    "\n",
    "## Where is all the [Rain](https://www.laalmanac.com/weather/we144a.php)?!\n",
    "\n",
    "### How the Jupyter notebook works: A little Python \n",
    "- Introduce you to variables\n",
    "- Conditional Statements\n",
    "- Lists: accessing lists\n",
    "- Iterative Statements(Loops)\n",
    "</div>"
   ]
  },
  {
   "cell_type": "markdown",
   "metadata": {},
   "source": [
    "### Variables (in Python)"
   ]
  },
  {
   "cell_type": "code",
   "execution_count": 1,
   "metadata": {},
   "outputs": [],
   "source": [
    "# Variables\n",
    "rainfall_2022_23 = 25.68\n",
    "rainfall_2040_41 = 29.45"
   ]
  },
  {
   "cell_type": "code",
   "execution_count": 2,
   "metadata": {},
   "outputs": [
    {
     "data": {
      "text/plain": [
       "-3.7699999999999996"
      ]
     },
     "execution_count": 2,
     "metadata": {},
     "output_type": "execute_result"
    }
   ],
   "source": [
    "# Math Operations (+, -, *,  /)\n",
    "\n",
    "rainfall_diff = rainfall_2022_23 - rainfall_2040_41\n",
    "rainfall_diff"
   ]
  },
  {
   "cell_type": "markdown",
   "metadata": {},
   "source": [
    "<div style=\"background-color: #D1B19D; padding-left:15px; padding-top:5px; padding-bottom:5px\">\n",
    "\n",
    "### Give it a try\n",
    "</div>"
   ]
  },
  {
   "cell_type": "code",
   "execution_count": null,
   "metadata": {},
   "outputs": [],
   "source": [
    "# Now you give it a shot\n",
    "\n",
    "# Define the variables below:\n",
    "rainfall_2021_22 = ...      # I will save you looking it up ... 10.53\n",
    "rainfall_2033_34 = ...      # ... 7.91\n",
    "rainfall_diff_yours = ...   # substract the two values\n",
    "rainfall_diff_yours         # If you want to see the output below the cell; make sure it is the last statement"
   ]
  },
  {
   "cell_type": "markdown",
   "metadata": {},
   "source": [
    "### Conditionals"
   ]
  },
  {
   "cell_type": "code",
   "execution_count": 3,
   "metadata": {},
   "outputs": [
    {
     "name": "stdout",
     "output_type": "stream",
     "text": [
      "It rained more in in 2040 - 41!\n"
     ]
    }
   ],
   "source": [
    "# we can access variables declared(if the cell was executed) above us  \n",
    "# -- just like in a standard python(script) file\n",
    "\n",
    "if rainfall_2022_23 > rainfall_2040_41:\n",
    "    print(\"It rained more in in 2022 - 23!\")\n",
    "else:\n",
    "    print(\"It rained more in in 2040 - 41!\")"
   ]
  },
  {
   "cell_type": "markdown",
   "metadata": {},
   "source": [
    "<div style=\"background-color: #D1B19D; padding-left:15px; padding-top:5px; padding-bottom:5px\">\n",
    "\n",
    "### Give it a try\n",
    "</div>"
   ]
  },
  {
   "cell_type": "code",
   "execution_count": null,
   "metadata": {},
   "outputs": [],
   "source": [
    "# You can compare the differences we calculated and stored in the above cells. The \n",
    "# variable names are: rainfall_diff, rainfall_diff_yours\n",
    "# print out any message you want\n",
    "\n",
    "if ... > ...:\n",
    "    print(...)\n",
    "else:\n",
    "    print(...)"
   ]
  },
  {
   "cell_type": "markdown",
   "metadata": {},
   "source": [
    "## Iteration(Loops)"
   ]
  },
  {
   "cell_type": "markdown",
   "metadata": {},
   "source": [
    "**Instructions:**\n",
    "Just for practice, we are going to pretend we are running a simple simulation to predict the number of rainy days in a year based on a made up chance of rain on any given day. It is a wildly inaccurate method! Of course, this could get much more complex but the goal is to introduce loops and functions here; we can get scientific about how to run an accurate simulation once we have more Data Science and Statistical techniques to play with."
   ]
  },
  {
   "cell_type": "code",
   "execution_count": 21,
   "metadata": {},
   "outputs": [
    {
     "data": {
      "text/plain": [
       "True"
      ]
     },
     "execution_count": 21,
     "metadata": {},
     "output_type": "execute_result"
    }
   ],
   "source": [
    "# Define a function -- we needed to import the package random in order to generate a random number -- we usually put imports at the top  \n",
    "import random as r\n",
    "def chance_of_rain(chance):\n",
    "    return r.random() < chance\n",
    "\n",
    "# run this cell -- it will put the function in memory so we can use it later in the noteboook. If you want to test it here -- uncoomment the next line\n",
    "# chance_of_rain(1)  # <-- better return True"
   ]
  },
  {
   "cell_type": "code",
   "execution_count": 22,
   "metadata": {},
   "outputs": [
    {
     "name": "stdout",
     "output_type": "stream",
     "text": [
      "The chance of rain: 0.05; the number of days out of 365: 29\n"
     ]
    }
   ],
   "source": [
    "percent_chance_rain  = 0.05\n",
    "number_of_days = 365\n",
    "days_of_rain = 0\n",
    "\n",
    "while(number_of_days != 0):\n",
    "    # here is the call the function we defined above\n",
    "    if chance_of_rain(percent_chance_rain):\n",
    "        days_of_rain += 1\n",
    "\n",
    "    number_of_days -= 1\n",
    "\n",
    "print(f\"The chance of rain: {percent_chance_rain}; the number of days out of 365: {days_of_rain}\")\n"
   ]
  },
  {
   "cell_type": "markdown",
   "metadata": {},
   "source": [
    "# A dice rolling simultation ([Reference](https://www.vaia.com/en-us/textbooks/math/introduction-to-mathematical-statistics-6-edition/chapter-1/problem-31-a-french-nobleman-chevalier-de-mere-had-asked-a-f/)) \n",
    "Chevalier de Me´r´e [a French nobleman] gambled frequently to increase his wealth. He bet on a roll of a die that at least one 6 would appear during a total of four rolls. From past experience, he knew that he was more successful than not with this game of chance. Tired of his approach, he decided to change the game. He bet that he would get a total of 12, or a double 6, on twenty-four rolls of two dice. Calculate the probabilities of each situation.\n",
    "\n",
    "In the block below, we defined a series of functions for you to use or imitate. You can test each function by commenting/uncommenting the bottom lines."
   ]
  },
  {
   "cell_type": "code",
   "execution_count": 35,
   "metadata": {},
   "outputs": [
    {
     "data": {
      "text/plain": [
       "4"
      ]
     },
     "execution_count": 35,
     "metadata": {},
     "output_type": "execute_result"
    }
   ],
   "source": [
    "def roll_one_die():\n",
    "    return r.randint(1,6)\n",
    " \n",
    "def roll_two_die():\n",
    "    return roll_one_die() + roll_one_die()\n",
    "\n",
    "def a_six_in_four_rolls():\n",
    "    for i in range(4):\n",
    "        if roll_one_die() == 6:\n",
    "            return True\n",
    "    return False\n",
    "\n",
    "# You implement this function. It returns True if at any point in 24 rolls you get a 12; False otherwise\n",
    "def twelve_in_twenty_four_rolls():\n",
    "    for i in range(...):\n",
    "        if ... == ...:\n",
    "            return True\n",
    "    return False\n",
    "\n",
    "# Note: To test and study the funnctions above comment/uncomment the lines below\n",
    "# roll_one_die()\n",
    "# roll_two_die()\n",
    "# a_six_in_four_rolls()"
   ]
  },
  {
   "cell_type": "code",
   "execution_count": 36,
   "metadata": {},
   "outputs": [
    {
     "name": "stdout",
     "output_type": "stream",
     "text": [
      "A six in four rolls: 0.51667\n"
     ]
    }
   ],
   "source": [
    "# This simulates the chance of getting a four in six rolls with one dice.\n",
    "# Execute this cell to see the results\n",
    "number_of_simulations = 100000\n",
    "\n",
    "def run_sim_six_in_four_rolls():\n",
    "    count_got_six = 0\n",
    "    for _ in range(number_of_simulations):\n",
    "        if a_six_in_four_rolls():\n",
    "            count_got_six += 1\n",
    "    percent_one_six_four_rolls =  count_got_six / number_of_simulations\n",
    "    return percent_one_six_four_rolls\n",
    "\n",
    "print(f\"A six in four rolls: {run_sim_six_in_four_rolls()}\")"
   ]
  },
  {
   "cell_type": "code",
   "execution_count": null,
   "metadata": {},
   "outputs": [
    {
     "name": "stdout",
     "output_type": "stream",
     "text": [
      "A twelve in twenty-four rolls: 0.49395\n"
     ]
    }
   ],
   "source": [
    "# This simulates the chance of getting a 12 in 24 rolls with two dice.\n",
    "# using the cell above commplete this function.\n",
    "number_of_simulations = 100000\n",
    "\n",
    "def run_sim_twelve_in_twenty_four_rolls():\n",
    "    count_got_twelve = 0\n",
    "    for _ in range(number_of_simulations):\n",
    "        if ...:\n",
    "            count_got_twelve += 1\n",
    "    percent_twelve_twenty_four_rolls =  ... / ...\n",
    "    return ...\n",
    "    \n",
    "print(f\"A twelve in twenty-four rolls: {...}\")"
   ]
  },
  {
   "cell_type": "markdown",
   "metadata": {},
   "source": [
    "<div style=\"background-color: #f8b65a; padding-left:15px; padding-top:5px; padding-bottom:5px\">\n",
    "\n",
    "### Provide an explanation below\n",
    "\n",
    "You can see there is a slight difference in how often you win between the two methods. This might be a chance for a student to justify the difference using statistical methods as opposed to our method above.\n",
    "<div>"
   ]
  },
  {
   "cell_type": "markdown",
   "metadata": {},
   "source": [
    "___Double click this cell and write your answer here - you don't need to do this but you can see how the notebook allows students to give narrative explanations or answers as well___"
   ]
  },
  {
   "cell_type": "markdown",
   "metadata": {},
   "source": [
    "# Create our own Questions:\n",
    "- Markdown Cell to Introduce Concept\n",
    "- Code Cell Example\n",
    "- Code Cell for Practice"
   ]
  },
  {
   "cell_type": "markdown",
   "metadata": {},
   "source": [
    "# References\n",
    "\n",
    "- [Data 4ac notebook](https://github.com/ds-modules/data-4ac/blob/master/notebook1/notebook1.ipynb) - a complete overview of Jupyter Notebooks, markdown, and basics python "
   ]
  }
 ],
 "metadata": {
  "kernelspec": {
   "display_name": "Python 3",
   "language": "python",
   "name": "python3"
  },
  "language_info": {
   "codemirror_mode": {
    "name": "ipython",
    "version": 3
   },
   "file_extension": ".py",
   "mimetype": "text/x-python",
   "name": "python",
   "nbconvert_exporter": "python",
   "pygments_lexer": "ipython3",
   "version": "3.12.8"
  }
 },
 "nbformat": 4,
 "nbformat_minor": 2
}
